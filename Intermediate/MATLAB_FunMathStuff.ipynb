{
  "nbformat": 4,
  "nbformat_minor": 0,
  "metadata": {
    "colab": {
      "name": "MATLAB_FunMathStuff.ipynb",
      "provenance": []
    },
    "kernelspec": {
      "name": "python3",
      "display_name": "Python 3"
    },
    "language_info": {
      "name": "python"
    }
  },
  "cells": [
    {
      "cell_type": "markdown",
      "metadata": {
        "id": "rbl0456jSw6m"
      },
      "source": [
        "# Fun Math Stuff\n",
        "\n",
        "## Overview\n",
        "\n",
        "### What You'll See\n",
        "In this section, we list the following:\n",
        "1. Quick tips / Short math abilities built into MATLAB\n",
        "2. Trig Functions\n",
        "3. Complex Numbers\n",
        "4. Derivatives\n",
        "\n",
        "### Prerequisites\n",
        "Before starting this section, you should have an understanding of\n",
        "1. Data Types and Variables\n",
        "2. Printing\n",
        "3. Functions\n",
        "4. Knowledge of the math discussed\n",
        "\n",
        "---"
      ]
    },
    {
      "cell_type": "markdown",
      "metadata": {
        "id": "14SwERM-X1rQ"
      },
      "source": [
        "## Quick Tips\n",
        "\n",
        "Some functions that are built into MATLAB:\n",
        "\n",
        "Absolute value of x:\n",
        "`abs(x)`\n",
        "\n",
        "Sum of an array or matrix:\n",
        "`sum(x)`\n",
        "\n",
        "Sort an array: \n",
        "`sort(x)`\n",
        "\n",
        "Factorial\"\n",
        "`factorial(x)`\n",
        "\n",
        "Square Root:\n",
        "`sqrt(x)`\n",
        "\n",
        "Any root:\n",
        "`nthroot(X, n)`\n",
        "\n",
        "### Matrices\n",
        "\n",
        "Tip: \"end\" gets the last element\n",
        "\n",
        "j'th to last element: `x(j,end)`\n",
        "\n",
        "All elements of a row: `x(j,:)`\n",
        "\n",
        "All elements of a column: `x(:,j)`\n",
        "\n",
        "Matrix inverse: `inv(m)`\n",
        "\n",
        "Eigenvalues and Eigenvectors of a matrix: `eig(m)`\n",
        "\n",
        "---"
      ]
    },
    {
      "cell_type": "markdown",
      "metadata": {
        "id": "6LUHeBPpY5TT"
      },
      "source": [
        "## Trigonometry in MATLAB\n",
        "\n",
        "MATLAB supports all trig functions:\n",
        "\n",
        "\n",
        "*   `sin(x)`\n",
        "*   `cos(x)`\n",
        "*   `tan(x)`\n",
        "*   `csc(x)`\n",
        "*   `sec(x)`\n",
        "*   `cot(x)`\n",
        "\n",
        "For answer in degrees, add a \"d\".\n",
        "\n",
        "Ex: `sind(x)`\n",
        "\n",
        "Inverse trig functions:\n",
        "\n",
        "Ex: `asin(x)`, `asind(x)`\n",
        "\n",
        "Hyperbolic trig functions:\n",
        "\n",
        "Ex: `sinh(x)`,`asinh(x)`\n",
        "\n",
        "Converting between radians and degrees:\n",
        "\n",
        "`deg2rad(x)`,`rad2deg(x)`\n",
        "\n",
        "---\n"
      ]
    },
    {
      "cell_type": "markdown",
      "metadata": {
        "id": "ssRcRQFlcjP9"
      },
      "source": [
        "## Complex Numbers in MATLAB\n",
        "\n",
        "You can declare a complex number the same way you declare any other variable in MATLAB.\n",
        "\n",
        "For example:\n",
        "\n",
        "`z = a + bi` returns a complex numerical constant in z.\n",
        "\n",
        "`z = x + 1i*y` returns a complex array in z.\n",
        "\n",
        "MATLAB will perform operations on these numbers following the rules for complex number spaces."
      ]
    },
    {
      "cell_type": "markdown",
      "metadata": {
        "id": "luc1NErCdamw"
      },
      "source": [
        "Try adding two complex numbers in MATLAB!\n",
        "\n",
        "`n1 = 3 + 5i;`\n",
        "`n2 = 5 + 6i;`\n",
        "`disp(n1 + n2);`\n",
        "\n",
        "---"
      ]
    },
    {
      "cell_type": "markdown",
      "metadata": {
        "id": "F0Nf1uO2dbAM"
      },
      "source": [
        "## Derivatives\n",
        "\n",
        "In MATLAB, you can create a symbolic array using `syms name`\n",
        "\n",
        "You can also create an inline function on that array using `inline(function,name)`\n",
        "\n",
        "Then you can take the differential of that function using `diff(inline function, differentiating variable)`\n",
        "\n",
        "Here's an example of how this would be used so you can see it in action:"
      ]
    },
    {
      "cell_type": "markdown",
      "metadata": {
        "id": "Gf1Q6JudfTV5"
      },
      "source": [
        "![1.PNG](data:image/png;base64,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)"
      ]
    },
    {
      "cell_type": "markdown",
      "metadata": {
        "id": "lKTHNluhfUxV"
      },
      "source": [
        "As you can see, we correctly got the derivative for `sin(x) + 2cos(x)`."
      ]
    }
  ]
}